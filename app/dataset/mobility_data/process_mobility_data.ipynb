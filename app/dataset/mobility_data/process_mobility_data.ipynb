{
 "cells": [
  {
   "cell_type": "code",
   "execution_count": 2,
   "outputs": [],
   "source": [
    "import os\n",
    "import pandas as pd\n",
    "from datetime import datetime"
   ],
   "metadata": {
    "collapsed": false,
    "ExecuteTime": {
     "end_time": "2024-08-12T19:05:45.487014Z",
     "start_time": "2024-08-12T19:05:44.347753Z"
    }
   },
   "id": "1ea1127b7dad97bf"
  },
  {
   "cell_type": "code",
   "execution_count": 75,
   "outputs": [
    {
     "data": {
      "text/plain": "    Latitude   Longitude  Altitude            Datetime\n0  39.999844  116.326752     492.0 2008-10-23 17:58:54\n1  39.999876  116.326708     492.0 2008-10-23 17:58:59\n2  39.999915  116.326672     492.0 2008-10-23 17:59:04\n3  40.000059  116.327140     142.0 2008-10-23 17:59:09\n4  40.000039  116.327172     132.0 2008-10-23 17:59:14",
      "text/html": "<div>\n<style scoped>\n    .dataframe tbody tr th:only-of-type {\n        vertical-align: middle;\n    }\n\n    .dataframe tbody tr th {\n        vertical-align: top;\n    }\n\n    .dataframe thead th {\n        text-align: right;\n    }\n</style>\n<table border=\"1\" class=\"dataframe\">\n  <thead>\n    <tr style=\"text-align: right;\">\n      <th></th>\n      <th>Latitude</th>\n      <th>Longitude</th>\n      <th>Altitude</th>\n      <th>Datetime</th>\n    </tr>\n  </thead>\n  <tbody>\n    <tr>\n      <th>0</th>\n      <td>39.999844</td>\n      <td>116.326752</td>\n      <td>492.0</td>\n      <td>2008-10-23 17:58:54</td>\n    </tr>\n    <tr>\n      <th>1</th>\n      <td>39.999876</td>\n      <td>116.326708</td>\n      <td>492.0</td>\n      <td>2008-10-23 17:58:59</td>\n    </tr>\n    <tr>\n      <th>2</th>\n      <td>39.999915</td>\n      <td>116.326672</td>\n      <td>492.0</td>\n      <td>2008-10-23 17:59:04</td>\n    </tr>\n    <tr>\n      <th>3</th>\n      <td>40.000059</td>\n      <td>116.327140</td>\n      <td>142.0</td>\n      <td>2008-10-23 17:59:09</td>\n    </tr>\n    <tr>\n      <th>4</th>\n      <td>40.000039</td>\n      <td>116.327172</td>\n      <td>132.0</td>\n      <td>2008-10-23 17:59:14</td>\n    </tr>\n  </tbody>\n</table>\n</div>"
     },
     "execution_count": 75,
     "metadata": {},
     "output_type": "execute_result"
    }
   ],
   "source": [
    "def process_trajectory_file(filepath):\n",
    "    with open(filepath, 'r') as file:\n",
    "        lines = file.readlines()[6:]  \n",
    "        data = []\n",
    "        for line in lines:\n",
    "            lat, lon, _, alt, _, date_str, time_str = line.strip().split(',')\n",
    "            datetime_str = f\"{date_str} {time_str}\"\n",
    "            dt = datetime.strptime(datetime_str, '%Y-%m-%d %H:%M:%S')\n",
    "            data.append((float(lat), float(lon), float(alt), dt))\n",
    "        \n",
    "    df = pd.DataFrame(data, columns=['Latitude', 'Longitude', 'Altitude', 'Datetime'])\n",
    "    \n",
    "    return df\n",
    "\n",
    "sample_file = 'DATA/003/Trajectory/20081023175854.plt'\n",
    "df_sample = process_trajectory_file(sample_file)\n",
    "df_sample.head()\n"
   ],
   "metadata": {
    "collapsed": false,
    "ExecuteTime": {
     "end_time": "2024-08-11T19:01:07.219738Z",
     "start_time": "2024-08-11T19:01:07.211830Z"
    }
   },
   "id": "192bccce9c16d36f"
  },
  {
   "cell_type": "code",
   "execution_count": 76,
   "outputs": [],
   "source": [
    "def process_user_data(user_folder):\n",
    "    trajectory_folder = os.path.join(user_folder, 'Trajectory')\n",
    "    trajectory_files = [os.path.join(trajectory_folder, f) for f in os.listdir(trajectory_folder) if f.endswith('.plt')]\n",
    "    \n",
    "    user_data = pd.DataFrame()\n",
    "    for file in trajectory_files:\n",
    "        trajectory_data = process_trajectory_file(file)\n",
    "        user_data = pd.concat([user_data, trajectory_data], ignore_index=True)\n",
    "    \n",
    "    user_data = user_data.sort_values(by='Datetime').reset_index(drop=True)\n",
    "    \n",
    "    earliest_time = user_data['Datetime'].min()\n",
    "    user_data['Seconds_Since_Start'] = (user_data['Datetime'] - earliest_time).dt.total_seconds()\n",
    "    \n",
    "    return user_data\n"
   ],
   "metadata": {
    "collapsed": false,
    "ExecuteTime": {
     "end_time": "2024-08-11T19:01:09.385463Z",
     "start_time": "2024-08-11T19:01:09.378505Z"
    }
   },
   "id": "5dffe9e471e06b36"
  },
  {
   "cell_type": "code",
   "execution_count": 77,
   "outputs": [],
   "source": [
    "def save_user_data(user_folder, df):\n",
    "    user_id = os.path.basename(user_folder)\n",
    "    output_folder = os.path.join('processed_data', user_id)  \n",
    "    os.makedirs(output_folder, exist_ok=True)\n",
    "    \n",
    "    output_file = os.path.join(output_folder, f'{user_id}_data.csv')\n",
    "    df.to_csv(output_file, index=False)\n",
    "    \n",
    "    print(f\"Data for user {user_id} saved to '{output_file}'\")\n"
   ],
   "metadata": {
    "collapsed": false,
    "ExecuteTime": {
     "end_time": "2024-08-11T19:01:11.134746Z",
     "start_time": "2024-08-11T19:01:11.130621Z"
    }
   },
   "id": "34c8e8f230044e25"
  },
  {
   "cell_type": "code",
   "execution_count": 78,
   "outputs": [
    {
     "name": "stdout",
     "output_type": "stream",
     "text": [
      "Data for user 003 saved to 'processed_data/003/003_data.csv'\n"
     ]
    }
   ],
   "source": [
    "def process_and_save_user(data_folder, user_id):\n",
    "    user_folder = os.path.join(data_folder, user_id)\n",
    "    if os.path.isdir(user_folder):\n",
    "        user_data = process_user_data(user_folder)\n",
    "        save_user_data(user_folder, user_data)\n",
    "    else:\n",
    "        print(f\"User folder '{user_folder}' does not exist.\")\n",
    "\n",
    "specific_user_id = '003'  \n",
    "data_folder = 'DATA'\n",
    "process_and_save_user(data_folder, specific_user_id)\n"
   ],
   "metadata": {
    "collapsed": false,
    "ExecuteTime": {
     "end_time": "2024-08-11T19:01:19.415122Z",
     "start_time": "2024-08-11T19:01:12.137702Z"
    }
   },
   "id": "254a2236882b73ac"
  },
  {
   "cell_type": "code",
   "execution_count": 3,
   "outputs": [
    {
     "name": "stdout",
     "output_type": "stream",
     "text": [
      "Saved the first 100 lines to 'processed_data/003/003_data.csv'.\n"
     ]
    }
   ],
   "source": [
    "def keep_first_100_lines(input_csv_path, output_csv_path=None):\n",
    "    df = pd.read_csv(input_csv_path)\n",
    "    df_first_100 = df.head(100)\n",
    "    if output_csv_path is None:\n",
    "        output_csv_path = input_csv_path\n",
    "    \n",
    "    df_first_100.to_csv(output_csv_path, index=False)\n",
    "    print(f\"Saved the first 100 lines to '{output_csv_path}'.\")\n",
    "\n",
    "input_csv = 'processed_data/003/003_data.csv'  \n",
    "output_csv = 'processed_data/003/003_data.csv'\n",
    "\n",
    "keep_first_100_lines(input_csv, output_csv)"
   ],
   "metadata": {
    "collapsed": false,
    "ExecuteTime": {
     "end_time": "2024-08-12T19:05:48.688522Z",
     "start_time": "2024-08-12T19:05:48.048958Z"
    }
   },
   "id": "166982d5581e2570"
  },
  {
   "cell_type": "code",
   "execution_count": null,
   "outputs": [],
   "source": [],
   "metadata": {
    "collapsed": false
   },
   "id": "57593f67eb4b5169"
  }
 ],
 "metadata": {
  "kernelspec": {
   "display_name": "Python 3",
   "language": "python",
   "name": "python3"
  },
  "language_info": {
   "codemirror_mode": {
    "name": "ipython",
    "version": 2
   },
   "file_extension": ".py",
   "mimetype": "text/x-python",
   "name": "python",
   "nbconvert_exporter": "python",
   "pygments_lexer": "ipython2",
   "version": "2.7.6"
  }
 },
 "nbformat": 4,
 "nbformat_minor": 5
}
